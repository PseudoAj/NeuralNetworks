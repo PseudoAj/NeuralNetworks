{
 "cells": [
  {
   "cell_type": "markdown",
   "metadata": {},
   "source": [
    "# K Means over MNIST writted by \n",
    "## Ajay Krishna Teja Kavuri (@pseudoaj)"
   ]
  },
  {
   "cell_type": "markdown",
   "metadata": {},
   "source": [
    "First, we have to load the mnist dataset, for which I am using a python-mnist project(https://github.com/sorki/python-mnist)"
   ]
  },
  {
   "cell_type": "code",
   "execution_count": 1,
   "metadata": {
    "collapsed": false
   },
   "outputs": [],
   "source": [
    "from mnist import MNIST\n",
    "import matplotlib.pylab as plt\n",
    "import numpy as np\n",
    "import random\n",
    "import collections\n",
    "from operator import add\n",
    "from random import randint"
   ]
  },
  {
   "cell_type": "markdown",
   "metadata": {},
   "source": [
    "Now we will write our class for the processing and initialise with training, testing and K array values data"
   ]
  },
  {
   "cell_type": "code",
   "execution_count": 2,
   "metadata": {
    "collapsed": false
   },
   "outputs": [],
   "source": [
    "class KMeansMNIST:\n",
    "    \n",
    "    def __init__(self,k):\n",
    "        #Define k value\n",
    "        self.k=k\n",
    "        #Load MNIST datset\n",
    "        mnistData=MNIST('./mnistData')\n",
    "        self.imgTrain,self.lblTrain=mnistData.load_training()\n",
    "        #self.imgTest,self.lblTest=mnistData.load_testing()\n",
    "        #Initialize the random centroids\n",
    "        self.imgCen=[]\n",
    "        for c in xrange(self.k):\n",
    "            self.imgCen.append(self.imgTrain[randint(0,59999)])\n",
    "        \n",
    "        "
   ]
  },
  {
   "cell_type": "markdown",
   "metadata": {},
   "source": [
    "Optional, just a random function for confirmation"
   ]
  },
  {
   "cell_type": "code",
   "execution_count": 3,
   "metadata": {
    "collapsed": false
   },
   "outputs": [],
   "source": [
    "    def verifyLength(self):\n",
    "        print str(len(self.imgTrain))+\"\\t\"+str(len(self.imgTest))"
   ]
  },
  {
   "cell_type": "markdown",
   "metadata": {},
   "source": [
    "Draw the character when passed an array of digits"
   ]
  },
  {
   "cell_type": "code",
   "execution_count": 4,
   "metadata": {
    "collapsed": false
   },
   "outputs": [],
   "source": [
    "    def drawChar(self,digit):\n",
    "        plt.figure()\n",
    "        fig = plt.imshow(np.asarray(digit).reshape(28,28))\n",
    "        fig.set_cmap('gray_r')\n",
    "        fig.axes.get_xaxis().set_visible(False)\n",
    "        fig.axes.get_yaxis().set_visible(False)\n",
    "        plt.savefig(str(randint(0,59999))+\".png\")\n",
    "        plt.close()\n"
   ]
  },
  {
   "cell_type": "markdown",
   "metadata": {},
   "source": [
    "Draw the centroids that are randomly initialized"
   ]
  },
  {
   "cell_type": "code",
   "execution_count": 5,
   "metadata": {
    "collapsed": true
   },
   "outputs": [],
   "source": [
    "    def drawCentroids(self):\n",
    "        for i in xrange(self.k):\n",
    "            drawChar(self,self.imgCen[i])"
   ]
  },
  {
   "cell_type": "markdown",
   "metadata": {},
   "source": [
    "Cluster the data for each data point"
   ]
  },
  {
   "cell_type": "code",
   "execution_count": 6,
   "metadata": {
    "collapsed": true
   },
   "outputs": [],
   "source": [
    "    def clusterData(self):\n",
    "        self.map=collections.defaultdict(list)\n",
    "        for digit in self.imgTrain:\n",
    "            clstr=findCluster(self,digit)\n",
    "            clstrIndex=self.imgCen.index(clstr)\n",
    "            digitIndex=self.imgTrain.index(digit)\n",
    "            mapDigits(self,clstrIndex,digitIndex)"
   ]
  },
  {
   "cell_type": "code",
   "execution_count": 7,
   "metadata": {
    "collapsed": false
   },
   "outputs": [],
   "source": [
    "    def updateClusters(self):\n",
    "        for clstr in self.imgCen:\n",
    "            tmpSum=[0]*len(clstr)\n",
    "            clstrIndex=self.imgCen.index(clstr)\n",
    "            for digitIndex in self.map[clstrIndex]:\n",
    "                tmpSum=map(add, tmpSum, self.imgTrain[digitIndex])\n",
    "            if len(self.map[clstrIndex])!=0:\n",
    "                self.imgCen[clstrIndex]=[x / len(self.map[clstrIndex]) for x in tmpSum]\n",
    "                "
   ]
  },
  {
   "cell_type": "code",
   "execution_count": 8,
   "metadata": {
    "collapsed": true
   },
   "outputs": [],
   "source": [
    "    def mapDigits(self,clstrIndex,digitIndex):\n",
    "        self.map[clstrIndex].append(digitIndex)"
   ]
  },
  {
   "cell_type": "markdown",
   "metadata": {},
   "source": [
    "Pass each point to the function and calculate the mean "
   ]
  },
  {
   "cell_type": "code",
   "execution_count": 9,
   "metadata": {
    "collapsed": true
   },
   "outputs": [],
   "source": [
    "    def findCluster(self,digit):\n",
    "        minDist=float(\"inf\")\n",
    "        minClstr=[]\n",
    "        for clstr in self.imgCen:\n",
    "            tmpDist=getEcldnDist(self,digit,clstr)\n",
    "            if tmpDist<=minDist:\n",
    "                minDist=tmpDist\n",
    "                minClstr=clstr\n",
    "        return minClstr"
   ]
  },
  {
   "cell_type": "code",
   "execution_count": null,
   "metadata": {
    "collapsed": false
   },
   "outputs": [],
   "source": [
    "    def getEcldnDist(self,digit,clstr):\n",
    "        dist = np.linalg.norm(np.asarray(digit)-np.asarray(clstr))\n",
    "        return dist"
   ]
  },
  {
   "cell_type": "markdown",
   "metadata": {},
   "source": [
    "Initialize the class and run the logic, basic logic of the K means involes:\n",
    "1. Choose N input points\n",
    "2. Choose K random centroids\n",
    "3. Repeat until converges: \n",
    " * For each point:\n",
    "   1. Assign to the closest project(mean squared distance)\n",
    " * For each centroid:\n",
    "   1. Update the centroid by calculating the mean\n",
    "4. Stop\n"
   ]
  },
  {
   "cell_type": "code",
   "execution_count": 11,
   "metadata": {
    "collapsed": false,
    "scrolled": true
   },
   "outputs": [
    {
     "name": "stdout",
     "output_type": "stream",
     "text": [
      "iteration0finished\n",
      "iteration1finished\n",
      "iteration2finished\n",
      "iteration3finished\n",
      "iteration4finished\n",
      "iteration5finished\n",
      "iteration6finished\n",
      "iteration7finished\n",
      "iteration8finished\n",
      "iteration9finished\n",
      "iteration10finished\n",
      "iteration11finished\n",
      "iteration12finished\n",
      "iteration13finished\n",
      "iteration14finished\n",
      "iteration15finished\n",
      "iteration16finished\n",
      "iteration17finished\n",
      "iteration18finished\n",
      "iteration19finished\n",
      "iteration20finished\n",
      "iteration21finished\n",
      "iteration22finished\n",
      "iteration23finished\n",
      "iteration24finished\n",
      "iteration25finished\n",
      "iteration26finished\n",
      "iteration27finished\n",
      "iteration28finished\n",
      "iteration29finished\n",
      "iteration30finished\n",
      "iteration31finished\n",
      "iteration32finished\n",
      "iteration33finished\n",
      "iteration34finished\n",
      "iteration35finished\n",
      "iteration36finished\n",
      "iteration37finished\n",
      "iteration38finished\n",
      "iteration39finished\n",
      "iteration40finished\n",
      "iteration41finished\n",
      "iteration42finished\n",
      "iteration43finished\n",
      "iteration44finished\n",
      "iteration45finished\n",
      "iteration46finished\n",
      "iteration47finished\n",
      "iteration48finished\n",
      "iteration49finished\n",
      "iteration50finished\n",
      "iteration51finished\n",
      "iteration52finished\n",
      "iteration53finished\n",
      "iteration54finished\n",
      "iteration55finished\n",
      "iteration56finished\n",
      "iteration57finished\n",
      "iteration58finished\n",
<<<<<<< HEAD
      "iteration59finished\n",
      "iteration60finished\n",
      "iteration61finished\n",
      "iteration62finished\n",
      "iteration63finished\n",
      "iteration64finished\n",
      "iteration65finished\n",
      "iteration66finished\n",
      "iteration67finished\n",
      "iteration68finished\n",
      "iteration69finished\n",
      "iteration70finished\n",
      "iteration71finished\n",
      "iteration72finished\n",
      "iteration73finished\n",
      "iteration74finished\n",
      "iteration75finished\n",
      "iteration76finished\n",
      "iteration77finished\n",
      "iteration78finished\n",
      "iteration79finished\n",
      "iteration80finished\n",
      "iteration81finished\n",
      "iteration82finished\n",
      "iteration83finished\n",
      "iteration84finished\n",
      "iteration85finished\n",
      "iteration86finished\n",
      "iteration87finished\n",
      "iteration88finished\n",
      "iteration89finished\n",
      "iteration90finished\n",
      "iteration91finished\n",
      "iteration92finished\n",
      "iteration93finished\n",
      "iteration94finished\n",
      "iteration95finished\n",
      "iteration96finished\n",
      "iteration97finished\n",
      "iteration98finished\n",
      "iteration99finished\n"
=======
      "iteration59finished\n"
>>>>>>> c1955d593fabec6fbf6d38c194911c2bcd270fe7
     ]
    }
   ],
   "source": [
    "myKmeans=KMeansMNIST(80)\n",
    "for x in xrange(100):\n",
    "    clusterData(myKmeans)\n",
    "    updateClusters(myKmeans)\n",
    "    print \"iteration\"+str(x)+\"finished\"\n",
    "drawCentroids(myKmeans)"
   ]
  },
  {
   "cell_type": "code",
   "execution_count": null,
   "metadata": {
    "collapsed": true
   },
   "outputs": [],
   "source": [
    "\n",
    "iteration70finished\n",
    "iteration71finished"
   ]
  }
 ],
 "metadata": {
  "kernelspec": {
   "display_name": "Python 2",
   "language": "python",
   "name": "python2"
  },
  "language_info": {
   "codemirror_mode": {
    "name": "ipython",
    "version": 2
   },
   "file_extension": ".py",
   "mimetype": "text/x-python",
   "name": "python",
   "nbconvert_exporter": "python",
   "pygments_lexer": "ipython2",
   "version": "2.7.6"
  }
 },
 "nbformat": 4,
 "nbformat_minor": 0
}
